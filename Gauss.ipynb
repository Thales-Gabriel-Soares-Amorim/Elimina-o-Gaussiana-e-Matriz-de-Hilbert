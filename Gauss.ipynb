{
  "nbformat": 4,
  "nbformat_minor": 0,
  "metadata": {
    "colab": {
      "provenance": [],
      "authorship_tag": "ABX9TyMRX7AWbsvx524zPAjtcnG/",
      "include_colab_link": true
    },
    "kernelspec": {
      "name": "python3",
      "display_name": "Python 3"
    },
    "language_info": {
      "name": "python"
    }
  },
  "cells": [
    {
      "cell_type": "markdown",
      "metadata": {
        "id": "view-in-github",
        "colab_type": "text"
      },
      "source": [
        "<a href=\"https://colab.research.google.com/github/Thales-Gabriel-Soares-Amorim/Elimina-o-Gaussiana-e-Matriz-de-Hilbert/blob/main/Gauss.ipynb\" target=\"_parent\"><img src=\"https://colab.research.google.com/assets/colab-badge.svg\" alt=\"Open In Colab\"/></a>"
      ]
    },
    {
      "cell_type": "code",
      "execution_count": null,
      "metadata": {
        "colab": {
          "base_uri": "https://localhost:8080/",
          "height": 321
        },
        "id": "KUrJ5WlBuWeP",
        "outputId": "740c4faa-4b99-47b8-ca5e-9611abca03ff"
      },
      "outputs": [
        {
          "output_type": "stream",
          "name": "stdout",
          "text": [
            "[[ 3  2  4]\n",
            " [ 1  1  2]\n",
            " [ 4  3 -2]]\n",
            "----------------\n",
            "[1, 2, 3]\n"
          ]
        },
        {
          "output_type": "error",
          "ename": "NameError",
          "evalue": "ignored",
          "traceback": [
            "\u001b[0;31m---------------------------------------------------------------------------\u001b[0m",
            "\u001b[0;31mNameError\u001b[0m                                 Traceback (most recent call last)",
            "\u001b[0;32m<ipython-input-6-41669891cf12>\u001b[0m in \u001b[0;36m<cell line: 56>\u001b[0;34m()\u001b[0m\n\u001b[1;32m     54\u001b[0m \u001b[0;34m\u001b[0m\u001b[0m\n\u001b[1;32m     55\u001b[0m \u001b[0;31m#teste\u001b[0m\u001b[0;34m\u001b[0m\u001b[0;34m\u001b[0m\u001b[0m\n\u001b[0;32m---> 56\u001b[0;31m \u001b[0mx\u001b[0m \u001b[0;34m=\u001b[0m \u001b[0msubstituicao_reversa\u001b[0m\u001b[0;34m(\u001b[0m\u001b[0mA_t\u001b[0m\u001b[0;34m,\u001b[0m\u001b[0mb_t\u001b[0m\u001b[0;34m)\u001b[0m\u001b[0;34m\u001b[0m\u001b[0;34m\u001b[0m\u001b[0m\n\u001b[0m\u001b[1;32m     57\u001b[0m \u001b[0mprint\u001b[0m \u001b[0;34m(\u001b[0m\u001b[0mx\u001b[0m\u001b[0;34m)\u001b[0m\u001b[0;34m\u001b[0m\u001b[0;34m\u001b[0m\u001b[0m\n\u001b[1;32m     58\u001b[0m \u001b[0;32mdef\u001b[0m \u001b[0mHilbert\u001b[0m\u001b[0;34m(\u001b[0m\u001b[0mn\u001b[0m\u001b[0;34m)\u001b[0m\u001b[0;34m:\u001b[0m\u001b[0;34m\u001b[0m\u001b[0;34m\u001b[0m\u001b[0m\n",
            "\u001b[0;31mNameError\u001b[0m: name 'substituicao_reversa' is not defined"
          ]
        }
      ],
      "source": [
        "#eliminação gaussiana\n",
        "import numpy as np\n",
        "def gauss(A, b):\n",
        "  # A é a matriz dos coeficientes\n",
        "  # b é o vetor de termos independentes\n",
        "\n",
        "  n = len(b) #definir tamanho\n",
        "\n",
        "  for k in range (0, n-1): #percorre a diagonal\n",
        "    pivo = A[k][k]\n",
        "\n",
        "    for i in range (k+1, n): #percorre as linhas\n",
        "      m = A[i][k] / pivo\n",
        "\n",
        "      for j in range (k, n): #percorre as colunas\n",
        "        A[i][j] = A[i][j] - m* A[k][j]\n",
        "\n",
        "        b[i] = b[i] - m*b[k]\n",
        "\n",
        "      return A, b # depois de feito o escalonamento\n",
        "\n",
        "\n",
        "A = [3, 2, 4],[1, 1, 2],[4, 3, -2]\n",
        "b = [1 , 2 , 3]\n",
        "\n",
        "print(np.array(A_t))\n",
        "print (\"----------------\")\n",
        "print(b_t)\n",
        "\n",
        "#x = a_maiusculo*b #A produto vetorial x = b\n",
        "#x é o vetor solução, A é a matriz dos coeficientes, b é o vetor de termos independentes\n",
        "\n",
        "# transformar A em A_tio  que é uma matriz trangular superior, fazer o mesmo com b\n",
        "\n",
        "#selecionar o pivo do primeiro ate o penultimo\n",
        "\n",
        "#para cada linha\n",
        "\n",
        "\n",
        "\n",
        "#parte 2 substituição inversa\n",
        "def susbtituicao_reversa(A_t, b_x):\n",
        "  n = len(b)\n",
        "\n",
        "  x = n*[0] #vetor solução\n",
        "\n",
        "  x[n-1]= b_t[n-1] / A_t[n-1][n-1]\n",
        "\n",
        "  for k in range (n-2,-1,-1): #percorre as linhas detras para frente\n",
        "   s = 0\n",
        "   for j in range (k+1,n):\n",
        "    s = s + A_t[k]\n",
        "  return x # retorna a solução do SL A*x=b\n",
        "\n",
        "#teste\n",
        "x = substituicao_reversa(A_t,b_t)\n",
        "print (x)\n",
        "def Hilbert(n):\n",
        "  b = n*[0]\n",
        "\n",
        "  A = n*[n*[0]]\n",
        "\n",
        "  return A, b\n",
        "\n",
        "\n",
        "\n",
        "#fazer de biblioteca e na atividade"
      ]
    },
    {
      "cell_type": "markdown",
      "source": [
        "tem coisa para corrigir\n"
      ],
      "metadata": {
        "id": "7OTBVNg1CMju"
      }
    }
  ]
}